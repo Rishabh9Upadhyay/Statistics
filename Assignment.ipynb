{
 "cells": [
  {
   "cell_type": "markdown",
   "id": "027f5358-3e18-454a-817c-bd8700ee8e90",
   "metadata": {},
   "source": [
    "# Theory Questions"
   ]
  },
  {
   "attachments": {},
   "cell_type": "markdown",
   "id": "2b823bec-6c31-4ce2-a7a7-dd8914daf574",
   "metadata": {},
   "source": [
    "***1. What is statistics, and why is it important?***\n",
    "- Statistics is branch of mathematics which help us to analyse a data and extract some meaningfull result from data.\n",
    "\n",
    "\n",
    "***2. What are the two main types of statistic?***\n",
    "- Descriptive Statistics.\n",
    "- Inferential Statistics.\n",
    "\n",
    "\n",
    "***3. What are descriptive statistics.***\n",
    "- Summarizes and describes the main features of a dataset using measures like mean, median, mode, standard deviation, and visualizations like histograms and pie charts.\n",
    "\n",
    "\n",
    "***4. What is inferential statistic.***\n",
    "- Draws conclusions and makes predictions about a population based on a sample using techniques like hypothesis testing, confidence intervals, and regression analysis.\n",
    "\n",
    "\n",
    "***5. What is sampling in statistics?***\n",
    "- Sampling in statistics is selecting a subset from a population to analyze and make inferences.\n",
    "\n",
    "\n",
    "***6.  What are the different types of sampling methods?***\n",
    "- Types:\n",
    "    - Random Sampling – Equal chance for all.\n",
    "    - Stratified Sampling – Dividing into groups, then sampling.\n",
    "    - Systematic Sampling – Picking every k-th item.\n",
    "    - Cluster Sampling – Selecting entire groups.\n",
    "    - Convenience Sampling – Choosing easy-to-reach samples.\n",
    "\n",
    "\n",
    "***7. What is the difference between random and non-random sampling?***\n",
    "- Random Sampling: Every individual has an equal chance of selection (e.g., lottery method).\n",
    "- Non-Random Sampling: Selection is based on specific criteria, not chance (e.g., convenience sampling).\n",
    "\n",
    "\n",
    "***8. Define and give examples of qualitative and quantitative data?***\n",
    "- Qualitative Data: Descriptive, non-numerical data.\n",
    "    - Example: Colors of cars, customer feedback, types of fruits.\n",
    "- Quantitative Data: Numerical data that can be measured or counted.\n",
    "    - Example: Height of students, number of sales, temperature readings.\n",
    "\n",
    "\n",
    "***9. What are the different types of data in statistics?***\n",
    "- 1. Qualitative (Categorical) Data – Descriptive, non-numeric.\n",
    "    - Nominal: No order (e.g., colors, gender).\n",
    "    - Ordinal: Ordered but no fixed difference (e.g., rankings, satisfaction levels).\n",
    "- 2. Quantitative (Numerical) Data – Numeric and measurable.\n",
    "    - Discrete: Countable (e.g., number of students, cars).\n",
    "    - Continuous: Measurable (e.g., height, weight, temperature).\n",
    "\n",
    "\n",
    "***10. Explain nominal, ordinal, interval, and ratio levels of measurement.***\n",
    "- Nominal – Categorical data without order.\n",
    "    - Example: Colors (Red, Blue, Green), Gender (Male, Female).\n",
    "- Ordinal – Ordered categories, but differences aren’t measurable.\n",
    "    - Example: Rankings (1st, 2nd, 3rd), Satisfaction levels (Good, Better, Best).\n",
    "- Interval – Ordered with measurable differences, but no true zero.\n",
    "    - Example: Temperature in Celsius, Years (2000, 2020).\n",
    "- Ratio – Ordered, measurable differences, and a true zero exists.\n",
    "    - Example: Height, Weight, Age, Income.\n",
    "\n",
    "\n",
    "***11. What is the measure of central tendency?***\n",
    "- Measure of Central Tendency refers to values that represent the center or average of a dataset.\n",
    "    - Mean, Median, Mode.\n",
    "\n",
    "\n",
    "***12. Define mean, median, and mode.***\n",
    "- Mean: The arithmetic average.\n",
    "- Median – The middle value when data is sorted.\n",
    "- Mode – The most frequently occurring value.\n",
    "\n",
    "\n",
    "***13. What is the significance of the measure of central tendency?***\n",
    "- The measure of central tendency helps summarize a dataset by identifying a central value, making data easier to understand and compare.\n",
    "    - Significance:\n",
    "        - Represents Data – Provides a single value to describe the dataset.\n",
    "        - Comparison – Helps compare different datasets.\n",
    "        - Decision Making – Used in business, research, and statistics for analysis.\n",
    "        - Identifies Trends – Shows common patterns in data.\n",
    "\n",
    "\n",
    "\n",
    "***14. What is variance, and how is it calculated?***\n",
    "- Variance measures how much data points deviate from the mean. It shows the spread of data.\n",
    "\n",
    "             var(x) = sigma(i=1 to N) (xi-X)2/N\n",
    "\n",
    "\n",
    "***15. What is standard deviation, and why is it important?***\n",
    "- Standard Deviation (SD) measures the dispersion of data from the mean. It is the square root of variance.\n",
    "\n",
    "             std = sqrt(variance)\n",
    "\n",
    "***16. Define and explain the term range in statistics?***\n",
    "- Range in statistics is the difference between the highest and lowest values in a dataset.\n",
    "\n",
    "\n",
    "***17. What is the difference between variance and standard deviation?***\n",
    "- Standered deviation is squire root of variance.\n",
    "- both are having different dimensions.\n",
    "\n",
    "\n",
    "***18. What is skewness in a dataset?***\n",
    "- Skewness measures the asymmetry of a dataset's distribution.\n",
    "\n",
    "\n",
    "\n",
    "***19. What does it mean if a dataset is positively or negatively skewed?***\n",
    "- Positive Skew (Right-skewed) – Tail is longer on the right.\n",
    "- Negative Skew (Left-skewed) – Tail is longer on the left.\n",
    "- Zero Skew (Symmetric) – Data is evenly distributed.\n",
    "\n",
    "\n",
    "***20. Define and explain kurtosis.***\n",
    "- Kurtosis measures the tailedness of a distribution, indicating how extreme values (outliers) behave compared to a normal distribution.\n",
    "    - Types of Kurtosis:\n",
    "        - Mesokurtic (K=3) – Normal distribution, moderate tails.\n",
    "        - Leptokurtic (𝐾>3) – Heavy tails, more outliers.\n",
    "        - Platykurtic (𝐾<3) – Light tails, fewer outliers.\n",
    "\n",
    "\n",
    "***21. What is the purpose of covariance?***\n",
    "- Covariance measures the relationship between two variables, showing how they change together.\n",
    "\n",
    "***22. What does correlation measure in statistics?***\n",
    "- Correlation measures the strength and direction of the relationship between two variables.\n",
    "\n",
    "\n",
    "***23. What is the difference between covariance and correlation?***\n",
    "- Using Covariance we can not compare the strength of two relations but using correlation we can compare.\n",
    "- Covariance has dimension but correlation is dimesionless.\n",
    "\n",
    "\n",
    "***24. What are some real-world applications of statistics?***\n",
    "- Business & Finance – Risk analysis, stock market predictions, sales forecasting.\n",
    "- Healthcare – Disease prediction, drug effectiveness, medical research.\n",
    "- Education – Student performance analysis, grading systems.\n",
    "- Sports – Player performance analysis, game strategy.\n",
    "- Government & Policy – Census, crime rate analysis, economic planning.\n",
    "- Machine Learning & AI – Data analysis, predictive modeling.\n",
    "- Quality Control – Manufacturing defect detection, process optimization."
   ]
  },
  {
   "cell_type": "markdown",
   "id": "ebe7732a-5e03-4f10-aa77-7833ade75d5e",
   "metadata": {},
   "source": [
    "# Practical Questions"
   ]
  },
  {
   "cell_type": "code",
   "execution_count": 1,
   "id": "0c08950f-384b-4259-b587-f05a09c31046",
   "metadata": {},
   "outputs": [],
   "source": [
    "# 1. How do you calculate the mean, median, and mode of a dataset?\n",
    "data = [1,2,3,4,4,5,6,7,8]\n",
    "import numpy as np\n",
    "import pandas as pd\n",
    "arr = np.array(data)"
   ]
  },
  {
   "cell_type": "code",
   "execution_count": 2,
   "id": "330dfa6c-fabb-4b3c-9b4f-b5cdd6ec3ad5",
   "metadata": {},
   "outputs": [
    {
     "data": {
      "text/plain": [
       "4.444444444444445"
      ]
     },
     "execution_count": 2,
     "metadata": {},
     "output_type": "execute_result"
    }
   ],
   "source": [
    "np.mean(arr)"
   ]
  },
  {
   "cell_type": "code",
   "execution_count": 3,
   "id": "8df282bb-230c-49eb-87ad-24d375acbb66",
   "metadata": {},
   "outputs": [
    {
     "data": {
      "text/plain": [
       "4.0"
      ]
     },
     "execution_count": 3,
     "metadata": {},
     "output_type": "execute_result"
    }
   ],
   "source": [
    "np.median(arr)"
   ]
  },
  {
   "cell_type": "code",
   "execution_count": 4,
   "id": "024afe53-65a6-47b9-99a6-63b29dca0cd4",
   "metadata": {},
   "outputs": [
    {
     "data": {
      "text/plain": [
       "0    4\n",
       "dtype: int32"
      ]
     },
     "execution_count": 4,
     "metadata": {},
     "output_type": "execute_result"
    }
   ],
   "source": [
    "pd.Series(arr).mode()"
   ]
  },
  {
   "cell_type": "code",
   "execution_count": 5,
   "id": "c6bc0b04-9d7a-4391-a10c-2303bd3f0671",
   "metadata": {},
   "outputs": [
    {
     "data": {
      "text/plain": [
       "4.691358024691358"
      ]
     },
     "execution_count": 5,
     "metadata": {},
     "output_type": "execute_result"
    }
   ],
   "source": [
    "# 2. Write a Python program to compute the variance and standard deviation of a dataset.\n",
    "np.var(arr)"
   ]
  },
  {
   "cell_type": "code",
   "execution_count": 6,
   "id": "fb11d301-0d86-4831-831d-2bd331624b79",
   "metadata": {},
   "outputs": [
    {
     "data": {
      "text/plain": [
       "2.1659542988464366"
      ]
     },
     "execution_count": 6,
     "metadata": {},
     "output_type": "execute_result"
    }
   ],
   "source": [
    "np.std(arr)"
   ]
  },
  {
   "cell_type": "code",
   "execution_count": 7,
   "id": "f202e6b6-f832-45c2-99cc-102787466f20",
   "metadata": {},
   "outputs": [
    {
     "name": "stdout",
     "output_type": "stream",
     "text": [
      "   Gender Education Level  Temperature (°C)  Height (cm)\n",
      "0    Male     High School                25          150\n",
      "1  Female      Bachelor's                30          165\n",
      "2    Male        Master's                35          180\n",
      "3  Female             PhD                40          175\n"
     ]
    }
   ],
   "source": [
    "#3. Create a dataset and classify it into nominal, ordinal, interval, and ratio types.\n",
    "data = {\n",
    "    \"Gender\": [\"Male\", \"Female\", \"Male\", \"Female\"],  # Nominal\n",
    "    \"Education Level\": [\"High School\", \"Bachelor's\", \"Master's\", \"PhD\"],  # Ordinal\n",
    "    \"Temperature (°C)\": [25, 30, 35, 40],  # Interval\n",
    "    \"Height (cm)\": [150, 165, 180, 175]  # Ratio\n",
    "}\n",
    "df = pd.DataFrame(data)\n",
    "print(df)"
   ]
  },
  {
   "cell_type": "code",
   "execution_count": 8,
   "id": "7558af78-6731-4318-b660-815bb5661c85",
   "metadata": {},
   "outputs": [
    {
     "name": "stdout",
     "output_type": "stream",
     "text": [
      "Random Sampling:\n",
      "     ID  Gender  Age Education Level\n",
      "0    1    Male   32        Master's\n",
      "17  18    Male   18      Bachelor's\n",
      "15  16  Female   41             PhD\n",
      "1    2    Male   30        Master's\n",
      "8    9    Male   30      Bachelor's\n",
      "\n",
      "Stratified Sampling (Train Set):\n",
      "     ID  Age Education Level  Gender_Code\n",
      "13  14   25             PhD            1\n",
      "11  12   54     High School            0\n",
      "14  15   43      Bachelor's            1\n",
      "5    6   35     High School            1\n",
      "17  18   18      Bachelor's            1\n",
      "19  20   31        Master's            1\n",
      "0    1   32        Master's            1\n",
      "10  11   42      Bachelor's            0\n",
      "12  13   55      Bachelor's            1\n",
      "2    3   21      Bachelor's            1\n",
      "9   10   42             PhD            1\n",
      "3    4   50      Bachelor's            1\n",
      "18  19   37     High School            0\n",
      "1    2   30        Master's            1\n",
      "\n",
      "Stratified Sampling (Test Set):\n",
      "     ID  Age Education Level  Gender_Code\n",
      "6    7   34      Bachelor's            0\n",
      "4    5   57             PhD            1\n",
      "15  16   41             PhD            0\n",
      "16  17   23      Bachelor's            1\n",
      "8    9   30      Bachelor's            1\n",
      "7    8   43      Bachelor's            1\n"
     ]
    }
   ],
   "source": [
    " #4.  Implement sampling techniques like random sampling and stratified sampling\n",
    "import pandas as pd\n",
    "import numpy as np\n",
    "from sklearn.model_selection import train_test_split\n",
    "\n",
    "data = {\n",
    "    \"ID\": range(1, 21),\n",
    "    \"Gender\": np.random.choice([\"Male\", \"Female\"], 20),  # Nominal\n",
    "    \"Age\": np.random.randint(18, 60, 20),  # Ratio\n",
    "    \"Education Level\": np.random.choice([\"High School\", \"Bachelor's\", \"Master's\", \"PhD\"], 20),  # Ordinal\n",
    "}\n",
    "df = pd.DataFrame(data)\n",
    "\n",
    "\n",
    "\n",
    "\n",
    "# 1. Simple Random Sampling (Selecting 5 random samples)\n",
    "random_sample = df.sample(n=5, random_state=42)\n",
    "print(\"Random Sampling:\\n\", random_sample)\n",
    "\n",
    "\n",
    "\n",
    "\n",
    "# 2. Stratified Sampling (Ensuring equal proportion of 'Gender')\n",
    "df_stratified = df.copy()\n",
    "df_stratified[\"Gender_Code\"] = df_stratified[\"Gender\"].astype(\"category\").cat.codes  # Convert categorical to numeric\n",
    "X = df_stratified.drop(columns=[\"Gender\"])  # Features\n",
    "y = df_stratified[\"Gender_Code\"]  # Stratify by Gender\n",
    "\n",
    "X_train, X_test, y_train, y_test = train_test_split(X, y, test_size=0.3, stratify=y, random_state=42)\n",
    "\n",
    "print(\"\\nStratified Sampling (Train Set):\\n\", X_train)\n",
    "print(\"\\nStratified Sampling (Test Set):\\n\", X_test)\n"
   ]
  },
  {
   "cell_type": "code",
   "execution_count": 9,
   "id": "574c846c-d262-4812-8a33-6fb3ffd33c13",
   "metadata": {},
   "outputs": [
    {
     "name": "stdout",
     "output_type": "stream",
     "text": [
      "Range: 40\n"
     ]
    }
   ],
   "source": [
    "#5. Write a Python function to calculate the range of a dataset.\n",
    "def calculate_range(data):\n",
    "    if not data:\n",
    "        return None  \n",
    "    return max(data) - min(data)\n",
    "dataset = [10, 20, 30, 40, 50]\n",
    "print(\"Range:\", calculate_range(dataset))"
   ]
  },
  {
   "cell_type": "code",
   "execution_count": 10,
   "id": "c6be2c60-a550-4f8d-a8ba-fb5eb1e13ddd",
   "metadata": {},
   "outputs": [
    {
     "data": {
      "text/plain": [
       "<Axes: ylabel='Count'>"
      ]
     },
     "execution_count": 10,
     "metadata": {},
     "output_type": "execute_result"
    },
    {
     "data": {
      "image/png": "[encoded data removed]",
      "text/plain": [
       "<Figure size 640x480 with 1 Axes>"
      ]
     },
     "metadata": {},
     "output_type": "display_data"
    }
   ],
   "source": [
    "# 6. Create a dataset and plot its histogram to visualize skewness.\n",
    "import matplotlib.pyplot as plt\n",
    "import seaborn as sns\n",
    "arr = np.random.exponential(scale=2, size=1000)\n",
    "sns.histplot(arr, kde = True)   #Right skewd data"
   ]
  },
  {
   "cell_type": "code",
   "execution_count": 11,
   "id": "d1809602-fd63-4fdd-ac5c-78f5fd5190eb",
   "metadata": {},
   "outputs": [
    {
     "name": "stdout",
     "output_type": "stream",
     "text": [
      "Skewness: 0.19870829827385753\n",
      "Kurtosis: 0.1474095973059093\n"
     ]
    },
    {
     "data": {
      "text/plain": [
       "<Axes: ylabel='Count'>"
      ]
     },
     "execution_count": 11,
     "metadata": {},
     "output_type": "execute_result"
    },
    {
     "data": {
      "image/png": "[encoded data removed]",
      "text/plain": [
       "<Figure size 640x480 with 1 Axes>"
      ]
     },
     "metadata": {},
     "output_type": "display_data"
    }
   ],
   "source": [
    "# 7. import numpy as np\n",
    "import scipy.stats as stats\n",
    "\n",
    "data = np.random.normal(loc=0, scale=1, size=1000)  \n",
    "\n",
    "skewness = stats.skew(data)\n",
    "kurtosis = stats.kurtosis(data)\n",
    "\n",
    "print(\"Skewness:\", skewness)\n",
    "print(\"Kurtosis:\", kurtosis)\n",
    "\n",
    "sns.histplot(data, kde = True, color = 'blue')"
   ]
  },
  {
   "cell_type": "code",
   "execution_count": 12,
   "id": "708208c1-26c6-46f2-a42e-efb63870f83c",
   "metadata": {},
   "outputs": [
    {
     "name": "stdout",
     "output_type": "stream",
     "text": [
      "-1.7819145293379979 2.091046331102953\n"
     ]
    }
   ],
   "source": [
    "# 8.  Generate a dataset and demonstrate positive and negative skewness.\n",
    "data1 = -np.random.exponential(scale=2, size=1000)\n",
    "data2 = np.random.exponential(scale=2, size=1000)\n",
    "skewness1 = stats.skew(data1)\n",
    "skewness2 = stats.skew(data2)\n",
    "print(skewness1, skewness2)"
   ]
  },
  {
   "cell_type": "code",
   "execution_count": 13,
   "id": "eeba4e7f-4ea9-40a4-8174-4a8fe802ffed",
   "metadata": {},
   "outputs": [
    {
     "data": {
      "text/plain": [
       "<Axes: ylabel='Count'>"
      ]
     },
     "execution_count": 13,
     "metadata": {},
     "output_type": "execute_result"
    },
    {
     "data": {
      "image/png": "[encoded data removed]",
      "text/plain": [
       "<Figure size 640x480 with 1 Axes>"
      ]
     },
     "metadata": {},
     "output_type": "display_data"
    }
   ],
   "source": [
    "sns.histplot(data1, kde = True, color = 'blue')   #negative skewed"
   ]
  },
  {
   "cell_type": "code",
   "execution_count": 14,
   "id": "ffbab045-2d67-4f23-8e93-9558fbe1199d",
   "metadata": {},
   "outputs": [
    {
     "data": {
      "text/plain": [
       "<Axes: ylabel='Count'>"
      ]
     },
     "execution_count": 14,
     "metadata": {},
     "output_type": "execute_result"
    },
    {
     "data": {
      "image/png": "[encoded data removed]",
      "text/plain": [
       "<Figure size 640x480 with 1 Axes>"
      ]
     },
     "metadata": {},
     "output_type": "display_data"
    }
   ],
   "source": [
    "sns.histplot(data2, kde = True, color = 'blue')  #positive skewed"
   ]
  },
  {
   "cell_type": "code",
   "execution_count": 15,
   "id": "73f1b5fd-3067-42cc-ac51-c5f0080416d1",
   "metadata": {},
   "outputs": [
    {
     "data": {
      "text/plain": [
       "array([[250., 250.],\n",
       "       [250., 250.]])"
      ]
     },
     "execution_count": 15,
     "metadata": {},
     "output_type": "execute_result"
    }
   ],
   "source": [
    "# 9. Write a Python script to calculate covariance between two datasets.\n",
    "x = [10, 20, 30, 40, 50]\n",
    "y = [5, 15, 25, 35, 45]\n",
    "\n",
    "cov_matrix = np.cov(x, y)\n",
    "cov_matrix"
   ]
  },
  {
   "cell_type": "code",
   "execution_count": 16,
   "id": "438a8721-2999-4ca7-8714-27ea5eed90f0",
   "metadata": {},
   "outputs": [
    {
     "data": {
      "text/html": [
       "<div>\n",
       "<style scoped>\n",
       "    .dataframe tbody tr th:only-of-type {\n",
       "        vertical-align: middle;\n",
       "    }\n",
       "\n",
       "    .dataframe tbody tr th {\n",
       "        vertical-align: top;\n",
       "    }\n",
       "\n",
       "    .dataframe thead th {\n",
       "        text-align: right;\n",
       "    }\n",
       "</style>\n",
       "<table border=\"1\" class=\"dataframe\">\n",
       "  <thead>\n",
       "    <tr style=\"text-align: right;\">\n",
       "      <th></th>\n",
       "      <th>total_bill</th>\n",
       "      <th>tip</th>\n",
       "      <th>size</th>\n",
       "    </tr>\n",
       "  </thead>\n",
       "  <tbody>\n",
       "    <tr>\n",
       "      <th>total_bill</th>\n",
       "      <td>1.000000</td>\n",
       "      <td>0.675734</td>\n",
       "      <td>0.598315</td>\n",
       "    </tr>\n",
       "    <tr>\n",
       "      <th>tip</th>\n",
       "      <td>0.675734</td>\n",
       "      <td>1.000000</td>\n",
       "      <td>0.489299</td>\n",
       "    </tr>\n",
       "    <tr>\n",
       "      <th>size</th>\n",
       "      <td>0.598315</td>\n",
       "      <td>0.489299</td>\n",
       "      <td>1.000000</td>\n",
       "    </tr>\n",
       "  </tbody>\n",
       "</table>\n",
       "</div>"
      ],
      "text/plain": [
       "            total_bill       tip      size\n",
       "total_bill    1.000000  0.675734  0.598315\n",
       "tip           0.675734  1.000000  0.489299\n",
       "size          0.598315  0.489299  1.000000"
      ]
     },
     "execution_count": 16,
     "metadata": {},
     "output_type": "execute_result"
    }
   ],
   "source": [
    "# 10. Write a Python script to calculate the correlation coefficient between two datasets.\n",
    "df = sns.load_dataset('tips')\n",
    "df.corr(numeric_only=True)"
   ]
  },
  {
   "cell_type": "code",
   "execution_count": 17,
   "id": "791ef336-3613-4798-8f9f-d58ce064071f",
   "metadata": {},
   "outputs": [
    {
     "data": {
      "text/plain": [
       "<matplotlib.collections.PathCollection at 0x1c266eec950>"
      ]
     },
     "execution_count": 17,
     "metadata": {},
     "output_type": "execute_result"
    },
    {
     "data": {
      "image/png": "[encoded data removed]",
      "text/plain": [
       "<Figure size 640x480 with 1 Axes>"
      ]
     },
     "metadata": {},
     "output_type": "display_data"
    }
   ],
   "source": [
    "# 11. Create a scatter plot to visualize the relationship between two variables.\n",
    "plt.scatter(x,y)"
   ]
  },
  {
   "cell_type": "code",
   "execution_count": 18,
   "id": "8561c89d-165f-411e-831b-8dd31bf498c0",
   "metadata": {},
   "outputs": [
    {
     "name": "stdout",
     "output_type": "stream",
     "text": [
      "Simple Random Sampling:\n",
      "     Value\n",
      "49     50\n",
      "4       5\n",
      "19     20\n",
      "78     79\n",
      "2       3\n",
      "6       7\n",
      "56     57\n",
      "53     54\n",
      "44     45\n",
      "42     43\n",
      "\n",
      "Systematic Sampling:\n",
      "     Value\n",
      "0       1\n",
      "10     11\n",
      "20     21\n",
      "30     31\n",
      "40     41\n",
      "50     51\n",
      "60     61\n",
      "70     71\n",
      "80     81\n",
      "90     91\n"
     ]
    }
   ],
   "source": [
    "# 12. Implement and compare simple random sampling and systematic sampling.\n",
    "data = pd.DataFrame({'Value': np.arange(1, 101)})  # Dataset from 1 to 100\n",
    "\n",
    "random_sample = data.sample(n=10)\n",
    "\n",
    "k = len(data) // 10  # Step size\n",
    "systematic_sample = data.iloc[::k]\n",
    "\n",
    "print(\"Simple Random Sampling:\\n\", random_sample)\n",
    "print(\"\\nSystematic Sampling:\\n\", systematic_sample)"
   ]
  },
  {
   "cell_type": "code",
   "execution_count": 19,
   "id": "80296f6d-c78d-4e73-a580-ab0b59aa0413",
   "metadata": {},
   "outputs": [
    {
     "data": {
      "text/plain": [
       "array([[1, 2, 2],\n",
       "       [3, 4, 4],\n",
       "       [5, 6, 7]])"
      ]
     },
     "execution_count": 19,
     "metadata": {},
     "output_type": "execute_result"
    }
   ],
   "source": [
    "# 13. Calculate the mean, median, and mode of grouped data.\n",
    "data = [[1,2,2],[3,4,4],[5,6,7]]\n",
    "arr = np.array(data)\n",
    "arr"
   ]
  },
  {
   "cell_type": "code",
   "execution_count": 20,
   "id": "101ae0ba-25c0-4feb-a418-d013cf4069f4",
   "metadata": {},
   "outputs": [
    {
     "data": {
      "text/plain": [
       "3.7777777777777777"
      ]
     },
     "execution_count": 20,
     "metadata": {},
     "output_type": "execute_result"
    }
   ],
   "source": [
    "arr.mean()"
   ]
  },
  {
   "cell_type": "code",
   "execution_count": 21,
   "id": "07e82279-abb3-4e27-9626-a27be2239948",
   "metadata": {},
   "outputs": [
    {
     "data": {
      "text/plain": [
       "4.0"
      ]
     },
     "execution_count": 21,
     "metadata": {},
     "output_type": "execute_result"
    }
   ],
   "source": [
    "np.median(arr)"
   ]
  },
  {
   "cell_type": "code",
   "execution_count": 22,
   "id": "9669df44-959b-4100-a561-2e4ca2a25674",
   "metadata": {},
   "outputs": [],
   "source": [
    "df = pd.DataFrame(arr)"
   ]
  },
  {
   "cell_type": "code",
   "execution_count": 23,
   "id": "973413d1-37a4-46fe-bc19-1da823c73575",
   "metadata": {},
   "outputs": [
    {
     "data": {
      "text/plain": [
       "0    1\n",
       "1    3\n",
       "2    5\n",
       "Name: 0, dtype: int32"
      ]
     },
     "execution_count": 23,
     "metadata": {},
     "output_type": "execute_result"
    }
   ],
   "source": [
    "df[0].mode()"
   ]
  },
  {
   "cell_type": "code",
   "execution_count": 24,
   "id": "8249ffc8-cb48-4ef3-9372-33b40062aaad",
   "metadata": {},
   "outputs": [
    {
     "data": {
      "text/plain": [
       "4.9"
      ]
     },
     "execution_count": 24,
     "metadata": {},
     "output_type": "execute_result"
    }
   ],
   "source": [
    "# 14. Simulate data using Python and calculate its central tendency and dispersion.\n",
    "data = [1,2,3,4,4,5,6,7,8,9]\n",
    "np.mean(data)"
   ]
  },
  {
   "cell_type": "code",
   "execution_count": 25,
   "id": "76e42119-5033-4306-ad5e-12375f539240",
   "metadata": {},
   "outputs": [
    {
     "data": {
      "text/plain": [
       "4.5"
      ]
     },
     "execution_count": 25,
     "metadata": {},
     "output_type": "execute_result"
    }
   ],
   "source": [
    "np.median(data)"
   ]
  },
  {
   "cell_type": "code",
   "execution_count": 26,
   "id": "a8f09491-2148-42d2-b5dd-da5a2f23c708",
   "metadata": {},
   "outputs": [
    {
     "data": {
      "text/plain": [
       "0    4\n",
       "dtype: int64"
      ]
     },
     "execution_count": 26,
     "metadata": {},
     "output_type": "execute_result"
    }
   ],
   "source": [
    "pd.Series(data).mode()"
   ]
  },
  {
   "cell_type": "code",
   "execution_count": 27,
   "id": "44230bb9-9464-4d0a-9dcf-e849766affb6",
   "metadata": {},
   "outputs": [
    {
     "data": {
      "text/plain": [
       "6.090000000000001"
      ]
     },
     "execution_count": 27,
     "metadata": {},
     "output_type": "execute_result"
    }
   ],
   "source": [
    "np.var(data)"
   ]
  },
  {
   "cell_type": "code",
   "execution_count": 28,
   "id": "e7469439-4581-4719-96a3-6d4badde330e",
   "metadata": {},
   "outputs": [
    {
     "data": {
      "text/plain": [
       "2.4677925358506134"
      ]
     },
     "execution_count": 28,
     "metadata": {},
     "output_type": "execute_result"
    }
   ],
   "source": [
    "np.std(data)"
   ]
  },
  {
   "cell_type": "code",
   "execution_count": 29,
   "id": "6d0de674-2067-4dff-b6ab-d5452cff400d",
   "metadata": {},
   "outputs": [
    {
     "name": "stdout",
     "output_type": "stream",
     "text": [
      "4.9\n",
      "4.5\n",
      "0    4\n",
      "dtype: int64\n",
      "6.090000000000001\n",
      "2.4677925358506134\n",
      "0.11497880727106116\n"
     ]
    }
   ],
   "source": [
    "# 15. Use NumPy or pandas to summarize a dataset’s descriptive statistics.\n",
    "data = [1,2,3,4,4,5,6,7,8,9]\n",
    "\n",
    "# Measure of central tendency\n",
    "print(np.mean(data))\n",
    "print(np.median(data))\n",
    "print(pd.Series(data).mode())\n",
    "\n",
    "# Measure of dispursion\n",
    "print(np.var(data))\n",
    "print(np.std(data))\n",
    "\n",
    "# Measure of symetry\n",
    "from scipy.stats import skew\n",
    "print(skew(data))"
   ]
  },
  {
   "cell_type": "code",
   "execution_count": 30,
   "id": "cf619c63-23de-4716-8cf8-160cd6c9ab4d",
   "metadata": {},
   "outputs": [
    {
     "data": {
      "text/plain": [
       "<Axes: >"
      ]
     },
     "execution_count": 30,
     "metadata": {},
     "output_type": "execute_result"
    },
    {
     "data": {
      "image/png": "[encoded data removed]",
      "text/plain": [
       "<Figure size 640x480 with 1 Axes>"
      ]
     },
     "metadata": {},
     "output_type": "display_data"
    }
   ],
   "source": [
    "# 16. Plot a boxplot to understand the spread and identify outliers.\n",
    "# Sample data\n",
    "data = [1, 2, 3, 4, 4, 5, 6, 7, 8, 20]\n",
    "\n",
    "sns.boxplot(x=data)  #one outlier "
   ]
  },
  {
   "cell_type": "code",
   "execution_count": 31,
   "id": "6472b195-a187-4da7-b19d-166ea7407d41",
   "metadata": {},
   "outputs": [
    {
     "data": {
      "text/plain": [
       "3.5"
      ]
     },
     "execution_count": 31,
     "metadata": {},
     "output_type": "execute_result"
    }
   ],
   "source": [
    "# 17. Calculate the interquartile range (IQR) of a dataset.\n",
    "data = [1, 2, 3, 4, 4, 5, 6, 7, 8, 20]\n",
    "A = np.percentile(data,[0,25,50,75,100])\n",
    "IQR = A[3]-A[1]\n",
    "IQR"
   ]
  },
  {
   "cell_type": "code",
   "execution_count": 32,
   "id": "9062d6b3-2474-49c1-9c24-1c705683d088",
   "metadata": {},
   "outputs": [
    {
     "name": "stdout",
     "output_type": "stream",
     "text": [
      "   Values   Z-score  Z-score_scipy\n",
      "0      10 -0.993146      -1.087937\n",
      "1      20 -0.679521      -0.744378\n",
      "2      30 -0.365896      -0.400819\n",
      "3      40 -0.052271      -0.057260\n",
      "4      50  0.261354       0.286299\n",
      "5     100  1.829479       2.004094\n"
     ]
    }
   ],
   "source": [
    "# 18. Implement Z-score normalization and explain its significance.\n",
    "from scipy.stats import zscore\n",
    "\n",
    "data = pd.DataFrame({'Values': [10, 20, 30, 40, 50, 100]})\n",
    "\n",
    "data['Z-score'] = (data['Values'] - data['Values'].mean()) / data['Values'].std()\n",
    "\n",
    "data['Z-score_scipy'] = zscore(data['Values'])\n",
    "\n",
    "print(data)\n",
    "# Removes Scale Dependency – Makes data comparable by converting different units to a common scale.\n",
    "# Handles Outliers – Identifies extreme values (Z-scores beyond ±3 are usually considered outliers)."
   ]
  },
  {
   "cell_type": "code",
   "execution_count": 33,
   "id": "f4aff909-3832-4b0a-9932-f24e78230e3e",
   "metadata": {},
   "outputs": [
    {
     "name": "stdout",
     "output_type": "stream",
     "text": [
      "Standard Deviation of Dataset 1: 28.72\n",
      "Standard Deviation of Dataset 2: 126.59\n",
      "Dataset 2 has more variability.\n"
     ]
    }
   ],
   "source": [
    "# 19. Compare two datasets using their standard deviations.\n",
    "data1 = [10, 20, 30, 40, 50, 60, 70, 80, 90, 100]  \n",
    "data2 = [5, 15, 30, 50, 80, 120, 170, 230, 300, 400] \n",
    "\n",
    "std_dev1 = np.std(data1)\n",
    "std_dev2 = np.std(data2)\n",
    "\n",
    "print(f\"Standard Deviation of Dataset 1: {std_dev1:.2f}\")\n",
    "print(f\"Standard Deviation of Dataset 2: {std_dev2:.2f}\")\n",
    "\n",
    "if std_dev1 > std_dev2:\n",
    "    print(\"Dataset 1 has more variability.\")\n",
    "elif std_dev1 < std_dev2:\n",
    "    print(\"Dataset 2 has more variability.\")\n",
    "else:\n",
    "    print(\"Both datasets have the same variability.\")"
   ]
  },
  {
   "cell_type": "code",
   "execution_count": 34,
   "id": "a1b0c268-7c89-4f6b-abe4-dbb769077e54",
   "metadata": {},
   "outputs": [
    {
     "data": {
      "image/png": "[encoded data removed]",
      "text/plain": [
       "<Figure size 600x500 with 2 Axes>"
      ]
     },
     "metadata": {},
     "output_type": "display_data"
    }
   ],
   "source": [
    "# 20. Write a Python program to visualize covariance using a heatmap.\n",
    "data = {\n",
    "    'X': [10, 20, 30, 40, 50, 60, 70, 80],\n",
    "    'Y': [15, 30, 45, 60, 75, 90, 105, 120],\n",
    "    'Z': [5, 25, 35, 20, 50, 65, 80, 95]\n",
    "}\n",
    "df = pd.DataFrame(data)\n",
    "cov_matrix = df.cov()\n",
    "\n",
    "plt.figure(figsize=(6, 5))\n",
    "sns.heatmap(cov_matrix, annot=True, cmap=\"coolwarm\", fmt=\".2f\", linewidths=1)\n",
    "plt.title(\"Covariance Heatmap\")\n",
    "plt.show()"
   ]
  },
  {
   "cell_type": "code",
   "execution_count": 35,
   "id": "6fc4a550-8ace-43e3-a7dd-250f1e556f92",
   "metadata": {},
   "outputs": [
    {
     "data": {
      "text/html": [
       "<div>\n",
       "<style scoped>\n",
       "    .dataframe tbody tr th:only-of-type {\n",
       "        vertical-align: middle;\n",
       "    }\n",
       "\n",
       "    .dataframe tbody tr th {\n",
       "        vertical-align: top;\n",
       "    }\n",
       "\n",
       "    .dataframe thead th {\n",
       "        text-align: right;\n",
       "    }\n",
       "</style>\n",
       "<table border=\"1\" class=\"dataframe\">\n",
       "  <thead>\n",
       "    <tr style=\"text-align: right;\">\n",
       "      <th></th>\n",
       "      <th>X</th>\n",
       "      <th>Y</th>\n",
       "      <th>Z</th>\n",
       "    </tr>\n",
       "  </thead>\n",
       "  <tbody>\n",
       "    <tr>\n",
       "      <th>X</th>\n",
       "      <td>600.000000</td>\n",
       "      <td>900.000000</td>\n",
       "      <td>732.142857</td>\n",
       "    </tr>\n",
       "    <tr>\n",
       "      <th>Y</th>\n",
       "      <td>900.000000</td>\n",
       "      <td>1350.000000</td>\n",
       "      <td>1098.214286</td>\n",
       "    </tr>\n",
       "    <tr>\n",
       "      <th>Z</th>\n",
       "      <td>732.142857</td>\n",
       "      <td>1098.214286</td>\n",
       "      <td>978.125000</td>\n",
       "    </tr>\n",
       "  </tbody>\n",
       "</table>\n",
       "</div>"
      ],
      "text/plain": [
       "            X            Y            Z\n",
       "X  600.000000   900.000000   732.142857\n",
       "Y  900.000000  1350.000000  1098.214286\n",
       "Z  732.142857  1098.214286   978.125000"
      ]
     },
     "execution_count": 35,
     "metadata": {},
     "output_type": "execute_result"
    }
   ],
   "source": [
    "cov_matrix"
   ]
  },
  {
   "cell_type": "code",
   "execution_count": 36,
   "id": "7b2414df-13b1-45ee-8d39-89694b8770ec",
   "metadata": {},
   "outputs": [
    {
     "data": {
      "text/html": [
       "<div>\n",
       "<style scoped>\n",
       "    .dataframe tbody tr th:only-of-type {\n",
       "        vertical-align: middle;\n",
       "    }\n",
       "\n",
       "    .dataframe tbody tr th {\n",
       "        vertical-align: top;\n",
       "    }\n",
       "\n",
       "    .dataframe thead th {\n",
       "        text-align: right;\n",
       "    }\n",
       "</style>\n",
       "<table border=\"1\" class=\"dataframe\">\n",
       "  <thead>\n",
       "    <tr style=\"text-align: right;\">\n",
       "      <th></th>\n",
       "      <th>X</th>\n",
       "      <th>Y</th>\n",
       "      <th>Z</th>\n",
       "    </tr>\n",
       "  </thead>\n",
       "  <tbody>\n",
       "    <tr>\n",
       "      <th>X</th>\n",
       "      <td>1.000000</td>\n",
       "      <td>1.000000</td>\n",
       "      <td>0.955703</td>\n",
       "    </tr>\n",
       "    <tr>\n",
       "      <th>Y</th>\n",
       "      <td>1.000000</td>\n",
       "      <td>1.000000</td>\n",
       "      <td>0.955703</td>\n",
       "    </tr>\n",
       "    <tr>\n",
       "      <th>Z</th>\n",
       "      <td>0.955703</td>\n",
       "      <td>0.955703</td>\n",
       "      <td>1.000000</td>\n",
       "    </tr>\n",
       "  </tbody>\n",
       "</table>\n",
       "</div>"
      ],
      "text/plain": [
       "          X         Y         Z\n",
       "X  1.000000  1.000000  0.955703\n",
       "Y  1.000000  1.000000  0.955703\n",
       "Z  0.955703  0.955703  1.000000"
      ]
     },
     "execution_count": 36,
     "metadata": {},
     "output_type": "execute_result"
    }
   ],
   "source": [
    "# 21. Use seaborn to create a correlation matrix for a dataset.\n",
    "corr_matrix = df.corr()\n",
    "corr_matrix"
   ]
  },
  {
   "cell_type": "code",
   "execution_count": 37,
   "id": "bb4318dd-035f-4977-b500-0da27f378564",
   "metadata": {},
   "outputs": [
    {
     "data": {
      "text/plain": [
       "816.6666666666666"
      ]
     },
     "execution_count": 37,
     "metadata": {},
     "output_type": "execute_result"
    }
   ],
   "source": [
    "# 22. Generate a dataset and implement both variance and standard deviation computations.\n",
    "data = list(range(1,100))\n",
    "np.var(data)"
   ]
  },
  {
   "cell_type": "code",
   "execution_count": 38,
   "id": "8da1114f-edab-4e21-a8b2-9ed4e16e77d4",
   "metadata": {},
   "outputs": [
    {
     "data": {
      "text/plain": [
       "28.577380332470412"
      ]
     },
     "execution_count": 38,
     "metadata": {},
     "output_type": "execute_result"
    }
   ],
   "source": [
    "np.std(data)"
   ]
  },
  {
   "cell_type": "code",
   "execution_count": 39,
   "id": "ddef1b3c-c0c0-4303-8948-bc244f81b9ea",
   "metadata": {},
   "outputs": [
    {
     "name": "stdout",
     "output_type": "stream",
     "text": [
      "Skewness: -0.02501184671622743\n",
      "Kurtosis: 0.18881686084861604\n"
     ]
    },
    {
     "data": {
      "text/plain": [
       "<Axes: ylabel='Count'>"
      ]
     },
     "execution_count": 39,
     "metadata": {},
     "output_type": "execute_result"
    },
    {
     "data": {
      "image/png": "[encoded data removed]",
      "text/plain": [
       "<Figure size 640x480 with 1 Axes>"
      ]
     },
     "metadata": {},
     "output_type": "display_data"
    }
   ],
   "source": [
    "# 23. Visualize skewness and kurtosis using Python libraries like matplotlib or seaborn.\n",
    "import scipy.stats as stats\n",
    "\n",
    "data = np.random.normal(loc=0, scale=1, size=1000)  \n",
    "\n",
    "skewness = stats.skew(data)\n",
    "kurtosis = stats.kurtosis(data)\n",
    "\n",
    "print(\"Skewness:\", skewness)\n",
    "print(\"Kurtosis:\", kurtosis)\n",
    "\n",
    "sns.histplot(data, kde = True, color = 'blue')"
   ]
  },
  {
   "cell_type": "code",
   "execution_count": 40,
   "id": "8b3b3ecd-7a6f-450f-a6a8-462e5d668dab",
   "metadata": {},
   "outputs": [
    {
     "data": {
      "text/html": [
       "<div>\n",
       "<style scoped>\n",
       "    .dataframe tbody tr th:only-of-type {\n",
       "        vertical-align: middle;\n",
       "    }\n",
       "\n",
       "    .dataframe tbody tr th {\n",
       "        vertical-align: top;\n",
       "    }\n",
       "\n",
       "    .dataframe thead th {\n",
       "        text-align: right;\n",
       "    }\n",
       "</style>\n",
       "<table border=\"1\" class=\"dataframe\">\n",
       "  <thead>\n",
       "    <tr style=\"text-align: right;\">\n",
       "      <th></th>\n",
       "      <th>X</th>\n",
       "      <th>Y</th>\n",
       "      <th>Z</th>\n",
       "    </tr>\n",
       "  </thead>\n",
       "  <tbody>\n",
       "    <tr>\n",
       "      <th>X</th>\n",
       "      <td>1.000000</td>\n",
       "      <td>1.000000</td>\n",
       "      <td>0.955703</td>\n",
       "    </tr>\n",
       "    <tr>\n",
       "      <th>Y</th>\n",
       "      <td>1.000000</td>\n",
       "      <td>1.000000</td>\n",
       "      <td>0.955703</td>\n",
       "    </tr>\n",
       "    <tr>\n",
       "      <th>Z</th>\n",
       "      <td>0.955703</td>\n",
       "      <td>0.955703</td>\n",
       "      <td>1.000000</td>\n",
       "    </tr>\n",
       "  </tbody>\n",
       "</table>\n",
       "</div>"
      ],
      "text/plain": [
       "          X         Y         Z\n",
       "X  1.000000  1.000000  0.955703\n",
       "Y  1.000000  1.000000  0.955703\n",
       "Z  0.955703  0.955703  1.000000"
      ]
     },
     "execution_count": 40,
     "metadata": {},
     "output_type": "execute_result"
    }
   ],
   "source": [
    "#24. Implement the Pearson and Spearman correlation coefficients for a dataset.\n",
    "corr_matrix = df.corr()\n",
    "corr_matrix"
   ]
  }
 ],
 "metadata": {
  "kernelspec": {
   "display_name": "Python 3 (ipykernel)",
   "language": "python",
   "name": "python3"
  },
  "language_info": {
   "codemirror_mode": {
    "name": "ipython",
    "version": 3
   },
   "file_extension": ".py",
   "mimetype": "text/x-python",
   "name": "python",
   "nbconvert_exporter": "python",
   "pygments_lexer": "ipython3",
   "version": "3.12.2"
  }
 },
 "nbformat": 4,
 "nbformat_minor": 5
}
